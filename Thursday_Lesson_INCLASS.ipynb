{
 "cells": [
  {
   "cell_type": "markdown",
   "metadata": {},
   "source": [
    "# Object-Oriented-Programming (OOP)"
   ]
  },
  {
   "cell_type": "markdown",
   "metadata": {},
   "source": [
    "## Tasks Today:\n",
    "\n",
    "   \n",
    "\n",
    "1) <b>Creating a Class (Initializing/Declaring)</b> <br>\n",
    "2) <b>Using a Class (Instantiating)</b> <br>\n",
    " &nbsp;&nbsp;&nbsp;&nbsp; a) Creating One Instance <br>\n",
    " &nbsp;&nbsp;&nbsp;&nbsp; b) Creating Multiple Instances <br>\n",
    " &nbsp;&nbsp;&nbsp;&nbsp; c) In-Class Exercise #1 - Create a Class 'Car' and instantiate three different makes of cars <br>\n",
    "3) <b>The \\__init\\__() Method</b> <br>\n",
    " &nbsp;&nbsp;&nbsp;&nbsp; a) The 'self' Attribute <br>\n",
    "4) <b>Class Attributes</b> <br>\n",
    " &nbsp;&nbsp;&nbsp;&nbsp; a) Initializing Attributes <br>\n",
    " &nbsp;&nbsp;&nbsp;&nbsp; b) Setting an Attribute Outside of the \\__init\\__() Method <br>\n",
    " &nbsp;&nbsp;&nbsp;&nbsp; c) Setting Defaults for Attributes <br>\n",
    " &nbsp;&nbsp;&nbsp;&nbsp; d) Accessing Class Attributes <br>\n",
    " &nbsp;&nbsp;&nbsp;&nbsp; e) Changing Class Attributes <br>\n",
    " &nbsp;&nbsp;&nbsp;&nbsp; f) In-Class Exercise #2 - Add a color and wheels attribute to your 'Car' class <br>\n",
    "5) <b>Class Methods</b> <br>\n",
    " &nbsp;&nbsp;&nbsp;&nbsp; a) Creating <br>\n",
    " &nbsp;&nbsp;&nbsp;&nbsp; b) Calling <br>\n",
    " &nbsp;&nbsp;&nbsp;&nbsp; c) Modifying an Attribute's Value Through a Method <br>\n",
    " &nbsp;&nbsp;&nbsp;&nbsp; d) Incrementing an Attribute's Value Through a Method <br>\n",
    " &nbsp;&nbsp;&nbsp;&nbsp; e) In-Class Exercise #3 - Add a method that prints the cars color and wheel number, then call them <br>\n",
    "6) <b>Inheritance</b> <br>\n",
    " &nbsp;&nbsp;&nbsp;&nbsp; a) Syntax for Inheriting from a Parent Class <br>\n",
    " &nbsp;&nbsp;&nbsp;&nbsp; b) The \\__init\\__() Method for a Child Class (super()) <br>\n",
    " &nbsp;&nbsp;&nbsp;&nbsp; c) Defining Attributes and Methods for the Child Class <br>\n",
    " &nbsp;&nbsp;&nbsp;&nbsp; d) Method Overriding <br>\n",
    " &nbsp;&nbsp;&nbsp;&nbsp; e) In-Class Exercise #4 - Create a class 'Ford' that inherits from 'Car' class and initialize it as a Blue Ford Explorer with 4 wheels using the super() method <br>\n",
    "7) <b>Classes as Attributes</b> <br>\n",
    "8) <b>Exercises</b> <br>\n",
    " &nbsp;&nbsp;&nbsp;&nbsp; a) Exercise #1 - Turn the shopping cart program from yesterday into an object-oriented program <br>"
   ]
  },
  {
   "cell_type": "markdown",
   "metadata": {},
   "source": [
    "## Creating a Class (Initializing/Declaring)\n",
    "<p>When creating a class, function, or even a variable you are initializing that object. Initializing and Declaring occur at the same time in Python, whereas in lower level languages you have to declare an object before initializing it. This is the first step in the process of using a class.</p>"
   ]
  },
  {
   "cell_type": "code",
   "execution_count": 14,
   "metadata": {},
   "outputs": [],
   "source": [
    "# very similar to creating a function - no \"def\"\n",
    "# The naming conventions for classes is CAPITALIZING the name of the class\n",
    "\n",
    "class Car():\n",
    "    wheels = 4\n",
    "    color = 'blue'\n",
    "    \n",
    "# Parenthesis are used for inheritance - later"
   ]
  },
  {
   "cell_type": "markdown",
   "metadata": {},
   "source": [
    "## Using a Class (Instantiating)\n",
    "<p>The process of creating a class is called <i>Instantiating</i>. Each time you create a variable of that type of class, it is referred to as an <i>Instance</i> of that class. This is the second step in the process of using a class.</p>"
   ]
  },
  {
   "cell_type": "markdown",
   "metadata": {},
   "source": [
    "##### Creating One Instance"
   ]
  },
  {
   "cell_type": "code",
   "execution_count": 20,
   "metadata": {},
   "outputs": [
    {
     "name": "stdout",
     "output_type": "stream",
     "text": [
      "False\n",
      "False\n",
      "4\n",
      "blue\n",
      "4\n",
      "blue\n",
      "56\n"
     ]
    }
   ],
   "source": [
    "# A ford is a car\n",
    "ford = Car()\n",
    "x = Car()\n",
    "\n",
    "# THEY ARE EQUAL IN VALUE BUT NOT REFERENCE\n",
    "# == vs is\n",
    "\n",
    "print(ford == x)\n",
    "print(ford is x)\n",
    "\n",
    "print(ford.wheels)\n",
    "print(ford.color)\n",
    "\n",
    "print(x.wheels)\n",
    "print(x.color)\n",
    "\n",
    "# instances are mutable (changable)\n",
    "x.wheels = 56\n",
    "print(x.wheels)"
   ]
  },
  {
   "cell_type": "markdown",
   "metadata": {},
   "source": [
    "##### Creating Multiple Instances"
   ]
  },
  {
   "cell_type": "code",
   "execution_count": null,
   "metadata": {},
   "outputs": [],
   "source": [
    "# See Above"
   ]
  },
  {
   "cell_type": "markdown",
   "metadata": {},
   "source": [
    "##### In-Class Exercise #1 - Create a Class 'Car' and Instantiate three different makes of cars"
   ]
  },
  {
   "cell_type": "code",
   "execution_count": null,
   "metadata": {},
   "outputs": [],
   "source": []
  },
  {
   "cell_type": "markdown",
   "metadata": {},
   "source": [
    "## The \\__init\\__() Method <br>\n",
    "<p>This method is used in almost every created class, and called only once upon the creation of the class instance. This method will initialize all variables needed for the object.</p>"
   ]
  },
  {
   "cell_type": "code",
   "execution_count": 39,
   "metadata": {},
   "outputs": [
    {
     "name": "stdout",
     "output_type": "stream",
     "text": [
      "Honda\n",
      "Civic\n",
      "1999\n",
      "Tesla\n",
      "6\n",
      "4\n",
      "False\n",
      "{'make': 'Honda', 'model': 'Civic', 'year': 1999, 'convertible': False, 'wheels': 4}\n"
     ]
    }
   ],
   "source": [
    "# dunder method (double underscore)\n",
    "\n",
    "# syntax .doubleunderscore init doubleunderscore\n",
    "# .__init__\n",
    "# Always have to use this name for the init function\n",
    "\n",
    "class Car():\n",
    "#     for any method you make, you always pass in 'self' first\n",
    "    def __init__(self, make, model, y, wheels=4):\n",
    "        self.make = make\n",
    "        self.model = model\n",
    "        self.year = y\n",
    "        self.convertible = False\n",
    "        self.wheels = wheels\n",
    "#         wheels inside of the function trumps wheels outside because they happen\n",
    "#         after the stuff outside of the function\n",
    "    \n",
    "x=Car(\"Honda\", \"Civic\", 1999)\n",
    "print(x.make)\n",
    "print(x.model)\n",
    "print(x.year)\n",
    "\n",
    "brandt = Car('Tesla', \"Cybertruck\", 2023, 6)\n",
    "print(brandt.make)\n",
    "print(brandt.wheels)\n",
    "\n",
    "print(x.wheels)\n",
    "print(brandt.convertible)\n",
    "\n",
    "\n",
    "\n",
    "print(x.__dict__)\n",
    "# converts attributes created THROUGH the init method (not wheels = 4) into key-value pairs\n",
    "# in a dictionary"
   ]
  },
  {
   "cell_type": "markdown",
   "metadata": {},
   "source": [
    "##### The 'self' Attribute <br>\n",
    "<p>This attribute is required to keep track of specific instance's attributes. Without the self attribute, the program would not know how to reference or keep track of an instance's attributes.</p>"
   ]
  },
  {
   "cell_type": "code",
   "execution_count": null,
   "metadata": {},
   "outputs": [],
   "source": [
    "# see above"
   ]
  },
  {
   "cell_type": "markdown",
   "metadata": {},
   "source": [
    "## Class Attributes <br>\n",
    "<p>While variables are inside of a class, they are referred to as attributes and not variables. When someone says 'attribute' you know they're speaking about a class. Attributes can be initialized through the init method, or outside of it.</p>"
   ]
  },
  {
   "cell_type": "markdown",
   "metadata": {},
   "source": [
    "##### Initializing Attributes"
   ]
  },
  {
   "cell_type": "code",
   "execution_count": null,
   "metadata": {},
   "outputs": [],
   "source": [
    "# see above"
   ]
  },
  {
   "cell_type": "markdown",
   "metadata": {},
   "source": [
    "##### Accessing Class Attributes"
   ]
  },
  {
   "cell_type": "code",
   "execution_count": 34,
   "metadata": {
    "scrolled": true
   },
   "outputs": [
    {
     "data": {
      "text/plain": [
       "'Honda'"
      ]
     },
     "execution_count": 34,
     "metadata": {},
     "output_type": "execute_result"
    }
   ],
   "source": [
    "# See Above\n",
    "\n",
    "x.make"
   ]
  },
  {
   "cell_type": "markdown",
   "metadata": {},
   "source": [
    "##### Setting Defaults for Attributes"
   ]
  },
  {
   "cell_type": "code",
   "execution_count": null,
   "metadata": {},
   "outputs": [],
   "source": [
    "# see above - adding that 'wheels = 4' into the function input"
   ]
  },
  {
   "cell_type": "markdown",
   "metadata": {},
   "source": [
    "##### Changing Class Attributes <br>\n",
    "<p>Keep in mind there are global class attributes and then there are attributes only available to each class instance which won't effect other classes.</p>"
   ]
  },
  {
   "cell_type": "code",
   "execution_count": 41,
   "metadata": {},
   "outputs": [
    {
     "name": "stdout",
     "output_type": "stream",
     "text": [
      "0\n",
      "{'make': 'Honda', 'model': 'Civic', 'year': 1999, 'convertible': False, 'wheels': 4, 'test': 0}\n"
     ]
    }
   ],
   "source": [
    "# x and brandt are two cars that already exist\n",
    "\n",
    "# adding the 'test' to x but brandt doesn't have it\n",
    "x.test = 0\n",
    "\n",
    "print(x.test)\n",
    "print(x.__dict__)"
   ]
  },
  {
   "cell_type": "code",
   "execution_count": null,
   "metadata": {},
   "outputs": [],
   "source": []
  },
  {
   "cell_type": "markdown",
   "metadata": {},
   "source": [
    "##### In-Class Exercise #2 - Add a doors and seats attribute to your 'Car' class then print out two different instances with different doors and seats"
   ]
  },
  {
   "cell_type": "code",
   "execution_count": 43,
   "metadata": {},
   "outputs": [
    {
     "name": "stdout",
     "output_type": "stream",
     "text": [
      "4\n",
      "2\n",
      "{'make': 'Ford', 'model': 'Fusion', 'year': 2008, 'convertible': False, 'wheels': 4, 'doors': 4, 'seats': 5}\n"
     ]
    }
   ],
   "source": [
    "class Car():\n",
    "    def __init__(self, make, model, y, doors, seats, wheels=4):\n",
    "        self.make = make\n",
    "        self.model = model\n",
    "        self.year = y\n",
    "        self.convertible = False\n",
    "        self.wheels = wheels\n",
    "        self.doors = doors\n",
    "        self.seats = seats\n",
    "        \n",
    "Ford = Car(\"Ford\", \"Fusion\", 2008, 4, 5)\n",
    "BMW = Car(\"BMW\", \"M3\", 2016, 2, 2)\n",
    "\n",
    "print(Ford.doors)\n",
    "print(BMW.seats)\n",
    "\n",
    "print(Ford.__dict__)"
   ]
  },
  {
   "cell_type": "markdown",
   "metadata": {},
   "source": [
    "## Class Methods <br>\n",
    "<p>While inside of a class, functions are referred to as 'methods'. If you hear someone mention methods, they're speaking about classes. Methods are essentially functions, but only callable on the instances of a class.</p>"
   ]
  },
  {
   "cell_type": "markdown",
   "metadata": {},
   "source": [
    "##### Creating"
   ]
  },
  {
   "cell_type": "code",
   "execution_count": 50,
   "metadata": {},
   "outputs": [
    {
     "name": "stdout",
     "output_type": "stream",
     "text": [
      "3\n",
      "0\n",
      "6\n",
      "HI!  My name is Goofy.  I am a 6 years old Boston Terrier.\n"
     ]
    },
    {
     "data": {
      "text/plain": [
       "'HI!  My name is Goofy.  I am a 6 years old Boston Terrier.'"
      ]
     },
     "execution_count": 50,
     "metadata": {},
     "output_type": "execute_result"
    }
   ],
   "source": [
    "class Dog():\n",
    "    def __init__(self, name, b, age=0):\n",
    "        self.name = name\n",
    "        self.breed = b\n",
    "        self.age = age\n",
    "\n",
    "#        Setter\n",
    "    def happyBirthday(self):\n",
    "        self.age +=1\n",
    "        \n",
    "    def addAge(self, num):\n",
    "        self.age += num\n",
    "        \n",
    "    def changeName(self, new_name):\n",
    "        self.name = new_name\n",
    "        \n",
    "#         Getter\n",
    "    def myInfo(self):\n",
    "        string = f'HI!  My name is {self.name}.  I am a {self.age} years old {self.breed}.'\n",
    "        print(string)\n",
    "        return string\n",
    "    \n",
    "        \n",
    "d1 = Dog('Buddy', 'German Shepard', 3)\n",
    "d2 = Dog('Shoha', 'Poodle', 9001)\n",
    "d3 = Dog('Garfield', 'Boston Terrier')\n",
    "\n",
    "print(d1.age)\n",
    "\n",
    "# Dog.happyBirthday(d1) is the same as below\n",
    "d1.happyBirthday()\n",
    "\n",
    "print(d3.age)\n",
    "# Dog.addAge(d3, 6) -- This is where self comes from (who is doing the action)\n",
    "d3.addAge(6)\n",
    "print(d3.age)\n",
    "\n",
    "d3.changeName('Goofy')\n",
    "d3.myInfo()"
   ]
  },
  {
   "cell_type": "markdown",
   "metadata": {},
   "source": [
    "##### Calling"
   ]
  },
  {
   "cell_type": "code",
   "execution_count": null,
   "metadata": {},
   "outputs": [],
   "source": [
    "# See Above"
   ]
  },
  {
   "cell_type": "markdown",
   "metadata": {},
   "source": [
    "##### Modifying an Attribute's Value Through a Method"
   ]
  },
  {
   "cell_type": "code",
   "execution_count": null,
   "metadata": {},
   "outputs": [],
   "source": [
    "# see above\n",
    "# setters and getters"
   ]
  },
  {
   "cell_type": "markdown",
   "metadata": {},
   "source": [
    "##### Incrementing an Attribute's Value Through a Method"
   ]
  },
  {
   "cell_type": "code",
   "execution_count": null,
   "metadata": {},
   "outputs": [],
   "source": [
    "# see above"
   ]
  },
  {
   "cell_type": "markdown",
   "metadata": {},
   "source": [
    "##### In-Class Exercise #3 - Add a method that takes in three parameters of year, doors and seats and prints out a formatted print statement with make, model, year, seats, and doors"
   ]
  },
  {
   "cell_type": "code",
   "execution_count": 89,
   "metadata": {
    "scrolled": true
   },
   "outputs": [
    {
     "name": "stdout",
     "output_type": "stream",
     "text": [
      "This car is from 2019 and is a Ford Explorer and has 4 doors and 5 seats.\n"
     ]
    },
    {
     "data": {
      "text/plain": [
       "'This car is from 2019 and is a Ford Explorer and has 4 doors and 5 seats.'"
      ]
     },
     "execution_count": 89,
     "metadata": {},
     "output_type": "execute_result"
    }
   ],
   "source": [
    "# Create class with 2 paramters inside of the __init__ which are make and model\n",
    "\n",
    "# Inside of the Car class create a method that has 4 parameter in total (self,year,door,seats)\n",
    "\n",
    "# Output: This car is from 2019 and is a Ford Expolorer and has 4 doors and 5 seats\n",
    "\n",
    "\n",
    "class Car():\n",
    "    def __init__(self, make, model):\n",
    "        self.make = make\n",
    "        self.model = model\n",
    "        \n",
    "    def myCar(self, year, door, seats):\n",
    "        self.year = year\n",
    "        self.door = door\n",
    "        self.seats = seats\n",
    "        \n",
    "    def myInfo(self):\n",
    "        string = f'This car is from {self.year} and is a {self.make} {self.model} and has {self.door} doors and {self.seats} seats.'\n",
    "        print(string)\n",
    "        return string\n",
    "        \n",
    "Ford = Car(\"Ford\", \"Explorer\")\n",
    "Ford.myCar(2019, 4, 5)\n",
    "\n",
    "Ford.myInfo()\n",
    "\n"
   ]
  },
  {
   "cell_type": "markdown",
   "metadata": {},
   "source": [
    "## Inheritance <br>\n",
    "<p>You can create a child-parent relationship between two classes by using inheritance. What this allows you to do is have overriding methods, but also inherit traits from the parent class. Think of it as an actual parent and child, the child will inherit the parent's genes, as will the classes in OOP</p>"
   ]
  },
  {
   "cell_type": "markdown",
   "metadata": {},
   "source": [
    "##### Syntax for Inheriting from a Parent Class"
   ]
  },
  {
   "cell_type": "code",
   "execution_count": 82,
   "metadata": {},
   "outputs": [
    {
     "name": "stdout",
     "output_type": "stream",
     "text": [
      "buddy\n",
      "99\n",
      "...\n",
      "Garfield\n",
      "True\n",
      "meow\n"
     ]
    }
   ],
   "source": [
    "class Animal():\n",
    "    def __init__(self, life):\n",
    "        self.alive = True\n",
    "        self.lifespan = life\n",
    "        \n",
    "    def breathe(self):\n",
    "        print('...')\n",
    "        \n",
    "        \n",
    "# The dog class is inheriting the Animal class\n",
    "class Dog(Animal):\n",
    "    def __init__(self, name, life):\n",
    "# adding the init from Animal to dog\n",
    "        Animal.__init__(self, life)\n",
    "        self.name = name\n",
    "        \n",
    "        \n",
    "class Cat(Animal):\n",
    "    def __init__(self, name, life):\n",
    "# super() inherits all parent and grandparent classes\n",
    "        super().__init__(life)\n",
    "        self.name = name\n",
    "        \n",
    "    def talk(self):\n",
    "        print('meow')\n",
    "        \n",
    "\n",
    "a1=Animal(100)\n",
    "\n",
    "d1 = Dog('buddy', 99)\n",
    "print(d1.name)\n",
    "print(d1.lifespan)\n",
    "d1.breathe()\n",
    "\n",
    "c1 = Cat('Garfield', 99)\n",
    "print(c1.name)\n",
    "print(c1.alive)\n",
    "c1.talk()"
   ]
  },
  {
   "cell_type": "markdown",
   "metadata": {},
   "source": [
    "##### The \\__init\\__() Method for a Child Class - super()"
   ]
  },
  {
   "cell_type": "code",
   "execution_count": null,
   "metadata": {
    "scrolled": true
   },
   "outputs": [],
   "source": [
    "# see above"
   ]
  },
  {
   "cell_type": "markdown",
   "metadata": {},
   "source": [
    "##### Defining Attributes and Methods for the Child Class"
   ]
  },
  {
   "cell_type": "code",
   "execution_count": null,
   "metadata": {},
   "outputs": [],
   "source": [
    "# See Above"
   ]
  },
  {
   "cell_type": "markdown",
   "metadata": {},
   "source": [
    "##### Method Overriding"
   ]
  },
  {
   "cell_type": "code",
   "execution_count": null,
   "metadata": {},
   "outputs": [],
   "source": [
    "# See Above"
   ]
  },
  {
   "cell_type": "markdown",
   "metadata": {},
   "source": [
    "## Classes as Attributes <br>\n",
    "<p>Classes can also be used as attributes within another class. This is useful in situations where you need to keep variables locally stored, instead of globally stored.</p>"
   ]
  },
  {
   "cell_type": "code",
   "execution_count": 84,
   "metadata": {},
   "outputs": [
    {
     "data": {
      "text/plain": [
       "20"
      ]
     },
     "execution_count": 84,
     "metadata": {},
     "output_type": "execute_result"
    }
   ],
   "source": [
    "class Car():\n",
    "    def __init__(self, year, make, model, battery):\n",
    "        self.make = make\n",
    "        self.model = model\n",
    "        self.year = year\n",
    "        self.battery = battery\n",
    "    \n",
    "class Battery():\n",
    "    def __init__(self, cells):\n",
    "        self.volts = 7.8\n",
    "        self.cells = cells\n",
    "        \n",
    "bat = Battery(20)\n",
    "\n",
    "tesla = Car(2023, \"Tesla\", \"Model Y\", bat)\n",
    "\n",
    "tesla.battery.cells"
   ]
  },
  {
   "cell_type": "markdown",
   "metadata": {},
   "source": [
    "# Exercises"
   ]
  },
  {
   "cell_type": "markdown",
   "metadata": {},
   "source": [
    "### Exercise 1 - Turn the shopping cart program from yesterday into an object-oriented program\n",
    "\n",
    "The comments in the cell below are there as a guide for thinking about the problem. However, if you feel a different way is best for you and your own thought process, please do what feels best for you by all means."
   ]
  },
  {
   "cell_type": "code",
   "execution_count": 128,
   "metadata": {},
   "outputs": [
    {
     "name": "stdout",
     "output_type": "stream",
     "text": [
      "What is your name?  Matt\n",
      "What do you want to do?  Show/Add/Delete or Quit?  Add\n",
      "What do you want to add to your cart?  Apples\n",
      "How many apples would you like?  2\n",
      "What do you want to do?  Show/Add/Delete or Quit?  Add\n",
      "What do you want to add to your cart?  Bacon\n",
      "How many bacon would you like?  10\n",
      "What do you want to do?  Show/Add/Delete or Quit?  Delete\n",
      "What would you like to remove from your cart?  apples\n",
      "Matt's cart now contains:  \n",
      "\t('bacon', '10')\n",
      "What do you want to do?  Show/Add/Delete or Quit?  Quit\n",
      "Matt's cart contains:  \n",
      "\t('bacon', '10')\n",
      "What is your name?  Kelly\n",
      "What do you want to do?  Show/Add/Delete or Quit?  Add\n",
      "What do you want to add to your cart?  Cake\n",
      "How many cake would you like?  3\n",
      "What do you want to do?  Show/Add/Delete or Quit?  Quit\n",
      "Kelly's cart contains:  \n",
      "\t('cake', '3')\n"
     ]
    }
   ],
   "source": [
    "# Create a class called cart that retains items and has methods to add, remove, and show\n",
    "\n",
    "class Cart():\n",
    "    \n",
    "    def addToCart(self):\n",
    "        item = input('What do you want to add to your cart?  ')\n",
    "        num = input(f'How many {item.lower()} would you like?  ')\n",
    "        self.cart[item.lower()] = num\n",
    "\n",
    "\n",
    "    def removeFromCart(self):\n",
    "        remove = input('What would you like to remove from your cart?  ')\n",
    "        if remove.lower() in self.cart:\n",
    "            del self.cart[remove.lower()]\n",
    "            print(f\"{self.name}'s cart now contains:  \")\n",
    "            for key, value in self.cart.items():\n",
    "                print(f'\\t{key, value}')\n",
    "        else:\n",
    "            print('That item is not currently in your cart.')\n",
    "\n",
    "\n",
    "    def showCart(self):\n",
    "        if self.cart == {}:\n",
    "            print(f\"There is nothing in {self.name}'s cart.\")\n",
    "        else:\n",
    "            print(f\"{self.name}'s cart contains:  \")\n",
    "            for key, value in self.cart.items():\n",
    "                print(f'\\t{key, value}')\n",
    "                \n",
    "    def myItems(self):\n",
    "        print(f\"{self.name}'s cart contains:  \")\n",
    "        for key, value in self.cart.items():\n",
    "            print(f'\\t{key, value}')\n",
    "    \n",
    "    \n",
    "    def run(self):\n",
    "        self.cart = {}\n",
    "        self.name = input('What is your name?  ')\n",
    "        while True:\n",
    "            x = input('What do you want to do?  Show/Add/Delete or Quit?  ')\n",
    "\n",
    "            if x.lower() == 'quit':\n",
    "                print(f\"{self.name}'s cart contains:  \")\n",
    "                for key, value in self.cart.items():\n",
    "                      print(f'\\t{key, value}')\n",
    "                break\n",
    "\n",
    "            elif x.lower() == 'show':\n",
    "                self.showCart()\n",
    "\n",
    "            elif x.lower() == 'add':\n",
    "                self.addToCart()\n",
    "\n",
    "            elif x.lower() == 'delete':\n",
    "                self.removeFromCart()\n",
    "                \n",
    "            else:\n",
    "                print('Invalid entry.  Please try again.')\n",
    "\n",
    "                \n",
    "Person1 = Cart()\n",
    "Person1.run()\n",
    "\n",
    "Person2 = Cart()\n",
    "Person2.run()"
   ]
  },
  {
   "cell_type": "markdown",
   "metadata": {},
   "source": [
    "### Exercise 2 - Write a Python class which has two methods get_String and print_String. get_String accept a string from the user and print_String print the string in upper case"
   ]
  },
  {
   "cell_type": "code",
   "execution_count": 125,
   "metadata": {},
   "outputs": [
    {
     "name": "stdout",
     "output_type": "stream",
     "text": [
      "Type a sentence:  hello!\n",
      "HELLO!\n"
     ]
    }
   ],
   "source": [
    "class Ex2():\n",
    "    def get_String(self):\n",
    "        self.hello = input('Type a sentence:  ')\n",
    "    \n",
    "    def print_String(self):\n",
    "        print(f'{self.hello.upper()}')\n",
    "\n",
    "run = Ex2()\n",
    "run.get_String()\n",
    "run.print_String()"
   ]
  },
  {
   "cell_type": "code",
   "execution_count": null,
   "metadata": {},
   "outputs": [],
   "source": []
  }
 ],
 "metadata": {
  "kernelspec": {
   "display_name": "Python 3 (ipykernel)",
   "language": "python",
   "name": "python3"
  },
  "language_info": {
   "codemirror_mode": {
    "name": "ipython",
    "version": 3
   },
   "file_extension": ".py",
   "mimetype": "text/x-python",
   "name": "python",
   "nbconvert_exporter": "python",
   "pygments_lexer": "ipython3",
   "version": "3.9.13"
  }
 },
 "nbformat": 4,
 "nbformat_minor": 2
}
